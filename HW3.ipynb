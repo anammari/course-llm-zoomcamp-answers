{
 "cells": [
  {
   "cell_type": "code",
   "execution_count": 1,
   "metadata": {},
   "outputs": [
    {
     "data": {
      "text/plain": [
       "948"
      ]
     },
     "execution_count": 1,
     "metadata": {},
     "output_type": "execute_result"
    }
   ],
   "source": [
    "import json\n",
    "\n",
    "with open('documents.json', 'rt') as f_in:\n",
    "    docs_raw = json.load(f_in)\n",
    "\n",
    "documents = []\n",
    "\n",
    "for course_dict in docs_raw:\n",
    "    for doc in course_dict['documents']:\n",
    "        doc['course'] = course_dict['course']\n",
    "        documents.append(doc)\n",
    "\n",
    "len(documents)"
   ]
  },
  {
   "cell_type": "code",
   "execution_count": 2,
   "metadata": {},
   "outputs": [
    {
     "name": "stderr",
     "output_type": "stream",
     "text": [
      "c:\\Users\\Ahmad\\.conda\\envs\\llmops\\Lib\\site-packages\\tqdm\\auto.py:21: TqdmWarning: IProgress not found. Please update jupyter and ipywidgets. See https://ipywidgets.readthedocs.io/en/stable/user_install.html\n",
      "  from .autonotebook import tqdm as notebook_tqdm\n"
     ]
    }
   ],
   "source": [
    "# This is a new library compared to the previous modules. \n",
    "# Please perform \"pip install sentence_transformers==2.7.0\"\n",
    "\n",
    "from sentence_transformers import SentenceTransformer\n",
    "\n",
    "# if you get an error do the following:\n",
    "# 1. Uninstall numpy \n",
    "# 2. Uninstall torch\n",
    "# 3. pip install numpy==1.26.4\n",
    "# 4. pip install torch\n",
    "# run the above cell, it should work\n",
    "model = SentenceTransformer(\"all-MiniLM-L12-v2\")"
   ]
  },
  {
   "cell_type": "code",
   "execution_count": 3,
   "metadata": {},
   "outputs": [
    {
     "data": {
      "text/plain": [
       "384"
      ]
     },
     "execution_count": 3,
     "metadata": {},
     "output_type": "execute_result"
    }
   ],
   "source": [
    "len(model.encode(\"This is a simple sentence\"))"
   ]
  },
  {
   "cell_type": "code",
   "execution_count": 4,
   "metadata": {},
   "outputs": [],
   "source": [
    "#created the dense vector using the pre-trained model\n",
    "operations = []\n",
    "for doc in documents:\n",
    "    # Transforming the title into an embedding using the model\n",
    "    doc[\"question_vector\"] = model.encode(doc[\"question\"]).tolist()\n",
    "    operations.append(doc)"
   ]
  },
  {
   "cell_type": "code",
   "execution_count": 7,
   "metadata": {},
   "outputs": [
    {
     "data": {
      "text/plain": [
       "ObjectApiResponse({'name': 'bff019efade7', 'cluster_name': 'docker-cluster', 'cluster_uuid': '9GUvjEuvR-qKz2m4bHewCw', 'version': {'number': '8.4.3', 'build_flavor': 'default', 'build_type': 'docker', 'build_hash': '42f05b9372a9a4a470db3b52817899b99a76ee73', 'build_date': '2022-10-04T07:17:24.662462378Z', 'build_snapshot': False, 'lucene_version': '9.3.0', 'minimum_wire_compatibility_version': '7.17.0', 'minimum_index_compatibility_version': '7.0.0'}, 'tagline': 'You Know, for Search'})"
      ]
     },
     "execution_count": 7,
     "metadata": {},
     "output_type": "execute_result"
    }
   ],
   "source": [
    "from elasticsearch import Elasticsearch\n",
    "es_client = Elasticsearch('http://localhost:9200') \n",
    "\n",
    "es_client.info()"
   ]
  },
  {
   "cell_type": "code",
   "execution_count": 8,
   "metadata": {},
   "outputs": [
    {
     "data": {
      "text/plain": [
       "ObjectApiResponse({'acknowledged': True, 'shards_acknowledged': True, 'index': 'course-questions'})"
      ]
     },
     "execution_count": 8,
     "metadata": {},
     "output_type": "execute_result"
    }
   ],
   "source": [
    "index_settings = {\n",
    "    \"settings\": {\n",
    "        \"number_of_shards\": 1,\n",
    "        \"number_of_replicas\": 0\n",
    "    },\n",
    "    \"mappings\": {\n",
    "        \"properties\": {\n",
    "            \"text\": {\"type\": \"text\"},\n",
    "            \"section\": {\"type\": \"keyword\"},\n",
    "            \"question\": {\"type\": \"text\"},\n",
    "            \"course\": {\"type\": \"keyword\"} ,\n",
    "            \"question_vector\":{\"type\":\"dense_vector\",\"dims\": 384,\"index\":True,\"similarity\": \"cosine\"\n",
    "        },\n",
    "        }\n",
    "    }\n",
    "}\n",
    "\n",
    "index_name = \"course-questions\"\n",
    "\n",
    "es_client.indices.delete(index=index_name, ignore_unavailable=True)\n",
    "es_client.indices.create(index=index_name, body=index_settings)"
   ]
  },
  {
   "cell_type": "code",
   "execution_count": 9,
   "metadata": {},
   "outputs": [],
   "source": [
    "for doc in operations:\n",
    "    try:\n",
    "        es_client.index(index=index_name, document=doc)\n",
    "    except Exception as e:\n",
    "        print(e)"
   ]
  },
  {
   "cell_type": "code",
   "execution_count": 10,
   "metadata": {},
   "outputs": [
    {
     "data": {
      "text/plain": [
       "[{'_index': 'course-questions',\n",
       "  '_id': 'SdR7kJABMQ9i9KFwho6t',\n",
       "  '_score': 0.8520479,\n",
       "  '_source': {'question': 'Course - What are the prerequisites for this course?',\n",
       "   'course': 'data-engineering-zoomcamp',\n",
       "   'section': 'General course-related questions',\n",
       "   'text': 'GitHub - DataTalksClub data-engineering-zoomcamp#prerequisites'}},\n",
       " {'_index': 'course-questions',\n",
       "  '_id': 'atR7kJABMQ9i9KFwjo6a',\n",
       "  '_score': 0.8381673,\n",
       "  '_source': {'question': 'How can we contribute to the course?',\n",
       "   'course': 'data-engineering-zoomcamp',\n",
       "   'section': 'General course-related questions',\n",
       "   'text': 'Star the repo! Share it with friends if you find it useful ❣️\\nCreate a PR if you see you can improve the text or the structure of the repository.'}},\n",
       " {'_index': 'course-questions',\n",
       "  '_id': 'DNR7kJABMQ9i9KFw8pCP',\n",
       "  '_score': 0.8284229,\n",
       "  '_source': {'question': 'I just joined. What should I do next? How can I access course materials?',\n",
       "   'course': 'machine-learning-zoomcamp',\n",
       "   'section': 'General course-related questions',\n",
       "   'text': 'Welcome to the course! Go to the course page (http://mlzoomcamp.com/), scroll down and start going through the course materials. Then read everything in the cohort folder for your cohort’s year.\\nClick on the links and start watching the videos. Also watch office hours from previous cohorts. Go to DTC youtube channel and click on Playlists and search for {course yyyy}. ML Zoomcamp was first launched in 2021.\\nOr you can just use this link: http://mlzoomcamp.com/#syllabus'}},\n",
       " {'_index': 'course-questions',\n",
       "  '_id': 'TNR7kJABMQ9i9KFwh45q',\n",
       "  '_score': 0.8260865,\n",
       "  '_source': {'question': 'Course - What can I do before the course starts?',\n",
       "   'course': 'data-engineering-zoomcamp',\n",
       "   'section': 'General course-related questions',\n",
       "   'text': 'You can start by installing and setting up all the dependencies and requirements:\\nGoogle cloud account\\nGoogle Cloud SDK\\nPython 3 (installed with Anaconda)\\nTerraform\\nGit\\nLook over the prerequisites and syllabus to see if you are comfortable with these subjects.'}},\n",
       " {'_index': 'course-questions',\n",
       "  '_id': '49R7kJABMQ9i9KFw6I_9',\n",
       "  '_score': 0.81018734,\n",
       "  '_source': {'question': 'Edit Course Profile.',\n",
       "   'course': 'data-engineering-zoomcamp',\n",
       "   'section': 'Workshop 1 - dlthub',\n",
       "   'text': 'The display name listed on the leaderboard is an auto-generated randomized name. You can edit it to be a nickname, or your real name, if you prefer. Your entry on the Leaderboard is the one highlighted in teal(?) / light green (?).\\nThe Certificate name should be your actual name that you want to appear on your certificate after completing the course.\\nThe \"Display on Leaderboard\" option indicates whether you want your name to be listed on the course leaderboard.\\nQuestion: Is it possible to create external tables in BigQuery using URLs, such as those from the NY Taxi data website?\\nAnswer: Not really, only Bigtable, Cloud Storage, and Google Drive are supported data stores.'}}]"
      ]
     },
     "execution_count": 10,
     "metadata": {},
     "output_type": "execute_result"
    }
   ],
   "source": [
    "search_term = \"how to enrol to course?\"\n",
    "vector_search_term = model.encode(search_term)\n",
    "\n",
    "query = {\n",
    "    \"field\" : \"question_vector\",\n",
    "    \"query_vector\" :  vector_search_term,\n",
    "    \"k\" : 5,\n",
    "    \"num_candidates\" : 10000, \n",
    "}\n",
    "\n",
    "res = es_client.search(index=index_name, knn=query,source=[\"text\",\"section\",\"question\",\"course\"])\n",
    "res[\"hits\"][\"hits\"]"
   ]
  },
  {
   "cell_type": "code",
   "execution_count": 13,
   "metadata": {},
   "outputs": [
    {
     "data": {
      "text/plain": [
       "[{'_index': 'course-questions',\n",
       "  '_id': 'SdR7kJABMQ9i9KFwho6t',\n",
       "  '_score': 3.4953291,\n",
       "  '_source': {'question': 'Course - What are the prerequisites for this course?',\n",
       "   'course': 'data-engineering-zoomcamp',\n",
       "   'section': 'General course-related questions',\n",
       "   'text': 'GitHub - DataTalksClub data-engineering-zoomcamp#prerequisites'}},\n",
       " {'_index': 'course-questions',\n",
       "  '_id': 'atR7kJABMQ9i9KFwjo6a',\n",
       "  '_score': 3.4814487,\n",
       "  '_source': {'question': 'How can we contribute to the course?',\n",
       "   'course': 'data-engineering-zoomcamp',\n",
       "   'section': 'General course-related questions',\n",
       "   'text': 'Star the repo! Share it with friends if you find it useful ❣️\\nCreate a PR if you see you can improve the text or the structure of the repository.'}},\n",
       " {'_index': 'course-questions',\n",
       "  '_id': 'DNR7kJABMQ9i9KFw8pCP',\n",
       "  '_score': 3.471704,\n",
       "  '_source': {'question': 'I just joined. What should I do next? How can I access course materials?',\n",
       "   'course': 'machine-learning-zoomcamp',\n",
       "   'section': 'General course-related questions',\n",
       "   'text': 'Welcome to the course! Go to the course page (http://mlzoomcamp.com/), scroll down and start going through the course materials. Then read everything in the cohort folder for your cohort’s year.\\nClick on the links and start watching the videos. Also watch office hours from previous cohorts. Go to DTC youtube channel and click on Playlists and search for {course yyyy}. ML Zoomcamp was first launched in 2021.\\nOr you can just use this link: http://mlzoomcamp.com/#syllabus'}},\n",
       " {'_index': 'course-questions',\n",
       "  '_id': 'TNR7kJABMQ9i9KFwh45q',\n",
       "  '_score': 3.4693677,\n",
       "  '_source': {'question': 'Course - What can I do before the course starts?',\n",
       "   'course': 'data-engineering-zoomcamp',\n",
       "   'section': 'General course-related questions',\n",
       "   'text': 'You can start by installing and setting up all the dependencies and requirements:\\nGoogle cloud account\\nGoogle Cloud SDK\\nPython 3 (installed with Anaconda)\\nTerraform\\nGit\\nLook over the prerequisites and syllabus to see if you are comfortable with these subjects.'}},\n",
       " {'_index': 'course-questions',\n",
       "  '_id': 'SNR7kJABMQ9i9KFwho5c',\n",
       "  '_score': 2.6432812,\n",
       "  '_source': {'question': 'Course - When will the course start?',\n",
       "   'course': 'data-engineering-zoomcamp',\n",
       "   'section': 'General course-related questions',\n",
       "   'text': \"The purpose of this document is to capture frequently asked technical questions\\nThe exact day and hour of the course will be 15th Jan 2024 at 17h00. The course will start with the first  “Office Hours'' live.1\\nSubscribe to course public Google Calendar (it works from Desktop only).\\nRegister before the course starts using this link.\\nJoin the course Telegram channel with announcements.\\nDon’t forget to register in DataTalks.Club's Slack and join the channel.\"}}]"
      ]
     },
     "execution_count": 13,
     "metadata": {},
     "output_type": "execute_result"
    }
   ],
   "source": [
    "knn_query = {\n",
    "    \"field\" : \"question_vector\",\n",
    "    \"query_vector\" :  vector_search_term,\n",
    "    \"k\" : 5,\n",
    "    \"num_candidates\" : 10000\n",
    "}\n",
    "\n",
    "response = es_client.search(\n",
    "    index=index_name,\n",
    "    query={\n",
    "        \"match\": {\n",
    "                \"section\": \"General course-related questions\"\n",
    "            },\n",
    "        },\n",
    "    source=[\"text\",\"section\",\"question\",\"course\"],\n",
    "    knn=knn_query,\n",
    "    size=5\n",
    ")\n",
    "\n",
    "response[\"hits\"][\"hits\"]"
   ]
  },
  {
   "cell_type": "code",
   "execution_count": 2,
   "metadata": {},
   "outputs": [
    {
     "data": {
      "text/plain": [
       "array([ 0.07822266, -0.04013115,  0.03861359, -0.00017898,  0.08923472],\n",
       "      dtype=float32)"
      ]
     },
     "execution_count": 2,
     "metadata": {},
     "output_type": "execute_result"
    }
   ],
   "source": [
    "# This is a new library compared to the previous modules. \n",
    "# Please perform \"pip install sentence_transformers==2.7.0\"\n",
    "\n",
    "from sentence_transformers import SentenceTransformer\n",
    "\n",
    "# if you get an error do the following:\n",
    "# 1. Uninstall numpy \n",
    "# 2. Uninstall torch\n",
    "# 3. pip install numpy==1.26.4\n",
    "# 4. pip install torch\n",
    "# run the above cell, it should work\n",
    "model = SentenceTransformer(\"multi-qa-distilbert-cos-v1\")\n",
    "user_question = \"I just discovered the course. Can I still join it?\"\n",
    "encoded_user_question = model.encode(user_question)\n",
    "encoded_user_question[:5]"
   ]
  },
  {
   "cell_type": "code",
   "execution_count": 3,
   "metadata": {},
   "outputs": [],
   "source": [
    "import requests \n",
    "\n",
    "base_url = 'https://github.com/DataTalksClub/llm-zoomcamp/blob/main'\n",
    "relative_url = '03-vector-search/eval/documents-with-ids.json'\n",
    "docs_url = f'{base_url}/{relative_url}?raw=1'\n",
    "docs_response = requests.get(docs_url)\n",
    "documents = docs_response.json()"
   ]
  },
  {
   "cell_type": "code",
   "execution_count": 4,
   "metadata": {},
   "outputs": [
    {
     "data": {
      "text/plain": [
       "948"
      ]
     },
     "execution_count": 4,
     "metadata": {},
     "output_type": "execute_result"
    }
   ],
   "source": [
    "len(documents)"
   ]
  },
  {
   "cell_type": "code",
   "execution_count": 6,
   "metadata": {},
   "outputs": [
    {
     "data": {
      "text/plain": [
       "{'text': \"The purpose of this document is to capture frequently asked technical questions\\nThe exact day and hour of the course will be 15th Jan 2024 at 17h00. The course will start with the first  “Office Hours'' live.1\\nSubscribe to course public Google Calendar (it works from Desktop only).\\nRegister before the course starts using this link.\\nJoin the course Telegram channel with announcements.\\nDon’t forget to register in DataTalks.Club's Slack and join the channel.\",\n",
       " 'section': 'General course-related questions',\n",
       " 'question': 'Course - When will the course start?',\n",
       " 'course': 'data-engineering-zoomcamp',\n",
       " 'id': 'c02e79ef'}"
      ]
     },
     "execution_count": 6,
     "metadata": {},
     "output_type": "execute_result"
    }
   ],
   "source": [
    "documents[0]"
   ]
  },
  {
   "cell_type": "code",
   "execution_count": 7,
   "metadata": {},
   "outputs": [
    {
     "data": {
      "text/plain": [
       "375"
      ]
     },
     "execution_count": 7,
     "metadata": {},
     "output_type": "execute_result"
    }
   ],
   "source": [
    "filtered_documents = []\n",
    "for doc in documents:\n",
    "    if doc['course'] == \"machine-learning-zoomcamp\":\n",
    "        filtered_documents.append(doc)\n",
    "len(filtered_documents)"
   ]
  },
  {
   "cell_type": "code",
   "execution_count": 8,
   "metadata": {},
   "outputs": [],
   "source": [
    "import numpy as np\n",
    "embeddings = []\n",
    "for doc in filtered_documents:\n",
    "    question = doc[\"question\"]\n",
    "    text = doc[\"text\"]\n",
    "    qa_text = f'{question} {text}'\n",
    "    embedding = model.encode(qa_text)\n",
    "    embeddings.append(embedding)\n",
    "X = np.array(embeddings)"
   ]
  },
  {
   "cell_type": "code",
   "execution_count": 9,
   "metadata": {},
   "outputs": [
    {
     "data": {
      "text/plain": [
       "(375, 768)"
      ]
     },
     "execution_count": 9,
     "metadata": {},
     "output_type": "execute_result"
    }
   ],
   "source": [
    "X.shape"
   ]
  },
  {
   "cell_type": "code",
   "execution_count": 11,
   "metadata": {},
   "outputs": [
    {
     "data": {
      "text/plain": [
       "0.6506572"
      ]
     },
     "execution_count": 11,
     "metadata": {},
     "output_type": "execute_result"
    }
   ],
   "source": [
    "v = encoded_user_question\n",
    "scores = X.dot(v)\n",
    "np.max(scores)"
   ]
  },
  {
   "cell_type": "code",
   "execution_count": 16,
   "metadata": {},
   "outputs": [
    {
     "data": {
      "text/plain": [
       "[{'text': 'Yes, you can. You won’t be able to submit some of the homeworks, but you can still take part in the course.\\nIn order to get a certificate, you need to submit 2 out of 3 course projects and review 3 peers’ Projects by the deadline. It means that if you join the course at the end of November and manage to work on two projects, you will still be eligible for a certificate.',\n",
       "  'section': 'General course-related questions',\n",
       "  'question': 'The course has already started. Can I still join it?',\n",
       "  'course': 'machine-learning-zoomcamp',\n",
       "  'id': 'ee58a693'},\n",
       " {'text': 'Welcome to the course! Go to the course page (http://mlzoomcamp.com/), scroll down and start going through the course materials. Then read everything in the cohort folder for your cohort’s year.\\nClick on the links and start watching the videos. Also watch office hours from previous cohorts. Go to DTC youtube channel and click on Playlists and search for {course yyyy}. ML Zoomcamp was first launched in 2021.\\nOr you can just use this link: http://mlzoomcamp.com/#syllabus',\n",
       "  'section': 'General course-related questions',\n",
       "  'question': 'I just joined. What should I do next? How can I access course materials?',\n",
       "  'course': 'machine-learning-zoomcamp',\n",
       "  'id': '0a278fb2'},\n",
       " {'text': \"The process is automated now, so you should receive the email eventually. If you haven’t, check your promotions tab in Gmail as well as spam.\\nIf you unsubscribed from our newsletter, you won't get course related updates too.\\nBut don't worry, it’s not a problem. To make sure you don’t miss anything, join the #course-ml-zoomcamp channel in Slack and our telegram channel with announcements. This is enough to follow the course.\",\n",
       "  'section': 'General course-related questions',\n",
       "  'question': \"I filled the form, but haven't received a confirmation email. Is it normal?\",\n",
       "  'course': 'machine-learning-zoomcamp',\n",
       "  'id': '6ba259b1'},\n",
       " {'text': 'Technically, yes. Advisable? Not really. Reasons:\\nSome homework(s) asks for specific python library versions.\\nAnswers may not match in MCQ options if using different languages other than Python 3.10 (the recommended version for 2023 cohort)\\nAnd as for midterms/capstones, your peer-reviewers may not know these other languages. Do you want to be penalized for others not knowing these other languages?\\nYou can create a separate repo using course’s lessons but written in other languages for your own learnings, but not advisable for submissions.\\ntx[source]',\n",
       "  'section': 'Miscellaneous',\n",
       "  'question': 'Can I do the course in other languages, like R or Scala?',\n",
       "  'course': 'machine-learning-zoomcamp',\n",
       "  'id': '9f261648'},\n",
       " {'text': 'We won’t re-record the course videos. The focus of the course and the skills we want to teach remained the same, and the videos are still up-to-date.\\nIf you haven’t taken part in the previous iteration, you can start watching the videos. It’ll be useful for you and you will learn new things. However, we recommend using Python 3.10 now instead of Python 3.8.',\n",
       "  'section': 'General course-related questions',\n",
       "  'question': 'The course videos are from the previous iteration. Will you release new ones or we’ll use the videos from 2021?',\n",
       "  'course': 'machine-learning-zoomcamp',\n",
       "  'id': 'e7ba6b8a'}]"
      ]
     },
     "execution_count": 16,
     "metadata": {},
     "output_type": "execute_result"
    }
   ],
   "source": [
    "class VectorSearchEngine():\n",
    "    def __init__(self, documents, embeddings):\n",
    "        self.documents = documents\n",
    "        self.embeddings = embeddings\n",
    "\n",
    "    def search(self, v_query, num_results=10):\n",
    "        scores = self.embeddings.dot(v_query)\n",
    "        idx = np.argsort(-scores)[:num_results]\n",
    "        return [self.documents[i] for i in idx]\n",
    "\n",
    "search_engine = VectorSearchEngine(documents=filtered_documents, embeddings=X)\n",
    "search_engine.search(v, num_results=5)"
   ]
  },
  {
   "cell_type": "code",
   "execution_count": 13,
   "metadata": {},
   "outputs": [],
   "source": [
    "import pandas as pd\n",
    "\n",
    "base_url = 'https://github.com/DataTalksClub/llm-zoomcamp/blob/main'\n",
    "relative_url = '03-vector-search/eval/ground-truth-data.csv'\n",
    "ground_truth_url = f'{base_url}/{relative_url}?raw=1'\n",
    "\n",
    "df_ground_truth = pd.read_csv(ground_truth_url)\n",
    "df_ground_truth = df_ground_truth[df_ground_truth.course == 'machine-learning-zoomcamp']\n",
    "ground_truth = df_ground_truth.to_dict(orient='records')"
   ]
  },
  {
   "cell_type": "code",
   "execution_count": 14,
   "metadata": {},
   "outputs": [
    {
     "data": {
      "text/plain": [
       "{'question': 'Where can I sign up for the course?',\n",
       " 'course': 'machine-learning-zoomcamp',\n",
       " 'document': '0227b872'}"
      ]
     },
     "execution_count": 14,
     "metadata": {},
     "output_type": "execute_result"
    }
   ],
   "source": [
    "ground_truth[0]"
   ]
  },
  {
   "cell_type": "code",
   "execution_count": 15,
   "metadata": {},
   "outputs": [],
   "source": [
    "def hit_rate(relevance_total):\n",
    "    cnt = 0\n",
    "\n",
    "    for line in relevance_total:\n",
    "        if True in line:\n",
    "            cnt = cnt + 1\n",
    "\n",
    "    return cnt / len(relevance_total)"
   ]
  },
  {
   "cell_type": "code",
   "execution_count": 17,
   "metadata": {},
   "outputs": [],
   "source": [
    "from tqdm.auto import tqdm\n",
    "def evaluate(ground_truth):\n",
    "    relevance_total = []\n",
    "\n",
    "    for q in tqdm(ground_truth):\n",
    "        doc_id = q['document']\n",
    "        embedding = model.encode(q['question'])\n",
    "        search_engine = VectorSearchEngine(documents=filtered_documents, embeddings=X)\n",
    "        results = search_engine.search(embedding, num_results=5)\n",
    "        relevance = [d['id'] == doc_id for d in results]\n",
    "        relevance_total.append(relevance)\n",
    "\n",
    "    return {\n",
    "        'hit_rate': hit_rate(relevance_total)\n",
    "    }"
   ]
  },
  {
   "cell_type": "code",
   "execution_count": 18,
   "metadata": {},
   "outputs": [
    {
     "name": "stderr",
     "output_type": "stream",
     "text": [
      "100%|██████████| 1830/1830 [01:03<00:00, 28.98it/s]\n"
     ]
    },
    {
     "data": {
      "text/plain": [
       "{'hit_rate': 0.9398907103825137}"
      ]
     },
     "execution_count": 18,
     "metadata": {},
     "output_type": "execute_result"
    }
   ],
   "source": [
    "evaluate(ground_truth)"
   ]
  },
  {
   "cell_type": "code",
   "execution_count": 21,
   "metadata": {},
   "outputs": [
    {
     "data": {
      "text/plain": [
       "ObjectApiResponse({'name': 'c530a47d9d81', 'cluster_name': 'docker-cluster', 'cluster_uuid': 'cYnEvuA8RA6H_wUeXo47QQ', 'version': {'number': '8.4.3', 'build_flavor': 'default', 'build_type': 'docker', 'build_hash': '42f05b9372a9a4a470db3b52817899b99a76ee73', 'build_date': '2022-10-04T07:17:24.662462378Z', 'build_snapshot': False, 'lucene_version': '9.3.0', 'minimum_wire_compatibility_version': '7.17.0', 'minimum_index_compatibility_version': '7.0.0'}, 'tagline': 'You Know, for Search'})"
      ]
     },
     "execution_count": 21,
     "metadata": {},
     "output_type": "execute_result"
    }
   ],
   "source": [
    "from elasticsearch import Elasticsearch\n",
    "es_client = Elasticsearch('http://localhost:9200') \n",
    "\n",
    "es_client.info()"
   ]
  },
  {
   "cell_type": "code",
   "execution_count": 22,
   "metadata": {},
   "outputs": [
    {
     "data": {
      "text/plain": [
       "ObjectApiResponse({'acknowledged': True, 'shards_acknowledged': True, 'index': 'course-questions'})"
      ]
     },
     "execution_count": 22,
     "metadata": {},
     "output_type": "execute_result"
    }
   ],
   "source": [
    "index_settings = {\n",
    "    \"settings\": {\n",
    "        \"number_of_shards\": 1,\n",
    "        \"number_of_replicas\": 0\n",
    "    },\n",
    "    \"mappings\": {\n",
    "        \"properties\": {\n",
    "            \"text\": {\"type\": \"text\"},\n",
    "            \"section\": {\"type\": \"text\"},\n",
    "            \"question\": {\"type\": \"text\"},\n",
    "            \"course\": {\"type\": \"keyword\"},\n",
    "            \"id\": {\"type\": \"keyword\"},\n",
    "            \"question_text_vector\": {\n",
    "                \"type\": \"dense_vector\",\n",
    "                \"dims\": 768,\n",
    "                \"index\": True,\n",
    "                \"similarity\": \"cosine\"\n",
    "            },\n",
    "        }\n",
    "    }\n",
    "}\n",
    "\n",
    "index_name = \"course-questions\"\n",
    "\n",
    "es_client.indices.delete(index=index_name, ignore_unavailable=True)\n",
    "es_client.indices.create(index=index_name, body=index_settings)"
   ]
  },
  {
   "cell_type": "code",
   "execution_count": 23,
   "metadata": {},
   "outputs": [
    {
     "data": {
      "text/plain": [
       "{'text': 'Machine Learning Zoomcamp FAQ\\nThe purpose of this document is to capture frequently asked technical questions.\\nWe did this for our data engineering course and it worked quite well. Check this document for inspiration on how to structure your questions and answers:\\nData Engineering Zoomcamp FAQ\\nIn the course GitHub repository there’s a link. Here it is: https://airtable.com/shryxwLd0COOEaqXo\\nwork',\n",
       " 'section': 'General course-related questions',\n",
       " 'question': 'How do I sign up?',\n",
       " 'course': 'machine-learning-zoomcamp',\n",
       " 'id': '0227b872'}"
      ]
     },
     "execution_count": 23,
     "metadata": {},
     "output_type": "execute_result"
    }
   ],
   "source": [
    "filtered_documents[0]"
   ]
  },
  {
   "cell_type": "code",
   "execution_count": 24,
   "metadata": {},
   "outputs": [],
   "source": [
    "import numpy as np\n",
    "for doc in filtered_documents:\n",
    "    question = doc[\"question\"]\n",
    "    text = doc[\"text\"]\n",
    "    qa_text = f'{question} {text}'\n",
    "    embedding = model.encode(qa_text)\n",
    "    doc['question_text_vector'] = embedding\n"
   ]
  },
  {
   "cell_type": "code",
   "execution_count": 25,
   "metadata": {},
   "outputs": [
    {
     "data": {
      "text/plain": [
       "{'text': 'Machine Learning Zoomcamp FAQ\\nThe purpose of this document is to capture frequently asked technical questions.\\nWe did this for our data engineering course and it worked quite well. Check this document for inspiration on how to structure your questions and answers:\\nData Engineering Zoomcamp FAQ\\nIn the course GitHub repository there’s a link. Here it is: https://airtable.com/shryxwLd0COOEaqXo\\nwork',\n",
       " 'section': 'General course-related questions',\n",
       " 'question': 'How do I sign up?',\n",
       " 'course': 'machine-learning-zoomcamp',\n",
       " 'id': '0227b872',\n",
       " 'question_text_vector': array([ 8.80590379e-02,  1.55935353e-02,  7.92557746e-02,  2.52758302e-02,\n",
       "         7.55765140e-02, -3.90597023e-02, -4.13814224e-02,  2.52918210e-02,\n",
       "         2.43241172e-02,  3.62582691e-03, -7.28283450e-03, -3.28751393e-02,\n",
       "         6.12956136e-02, -5.71100749e-02,  1.16775008e-02, -1.79442242e-02,\n",
       "         4.49206159e-02, -5.41606285e-02, -1.92259043e-03,  1.48330200e-02,\n",
       "         7.91359413e-03, -3.43127288e-02,  1.21480636e-02,  1.27185807e-02,\n",
       "        -1.60092693e-02,  7.12138275e-03,  1.58389267e-02, -3.27465445e-04,\n",
       "         3.01295216e-03, -4.58918214e-02, -1.34778686e-03,  2.01149527e-02,\n",
       "         2.33724713e-02, -4.28201072e-03, -3.09384167e-02,  1.94303901e-03,\n",
       "        -1.88219696e-02,  5.35163144e-03,  1.29352473e-02, -3.23958136e-02,\n",
       "         3.10556125e-02,  5.12981275e-03, -3.24449677e-04, -3.15541886e-02,\n",
       "         1.93377193e-02, -6.38601333e-02, -3.05381268e-02, -6.27884716e-02,\n",
       "        -1.74859725e-02,  3.52949649e-02, -2.98072305e-02,  7.45346174e-02,\n",
       "        -2.06183027e-02, -1.79156978e-02,  1.86262429e-02,  5.31014688e-02,\n",
       "         1.19287558e-02, -5.18543869e-02, -1.61919999e-03,  3.58705670e-02,\n",
       "        -6.52323291e-03,  4.53287028e-02, -1.06173968e-02,  1.02415755e-02,\n",
       "        -4.41201888e-02, -7.07985610e-02,  1.33665260e-02, -2.05062740e-02,\n",
       "         3.62042189e-02, -3.39451097e-02,  3.25139351e-02,  2.22205184e-02,\n",
       "        -3.24136764e-02, -3.93158644e-02,  2.75347644e-04,  2.43686456e-02,\n",
       "         1.57890115e-02,  2.50409096e-02,  1.70957751e-03, -2.63334630e-04,\n",
       "         4.40216847e-02, -5.46364896e-02,  2.34349445e-02,  2.99486760e-02,\n",
       "         1.41274631e-02, -2.91330554e-02, -6.47384394e-03, -3.54053676e-02,\n",
       "         1.71305090e-02,  2.90904678e-02,  1.46858767e-02,  8.54341034e-03,\n",
       "        -3.44416760e-02, -1.04835723e-02,  3.15485597e-02, -8.74644145e-02,\n",
       "        -2.11829543e-02, -5.05226925e-02, -7.52344495e-03,  4.42793556e-02,\n",
       "         3.77510265e-02, -1.24979601e-03,  6.45409245e-03, -1.53079079e-02,\n",
       "         1.66407377e-02,  5.46391420e-02,  1.78500637e-02, -7.61281839e-03,\n",
       "        -4.61103432e-02,  4.10019457e-02, -4.52273302e-02, -2.77623124e-02,\n",
       "         1.95288565e-02, -6.11867569e-02,  1.12644415e-02,  5.08543476e-03,\n",
       "         4.85851765e-02, -9.06992797e-03, -9.79334023e-03,  1.72461271e-02,\n",
       "        -7.30905309e-02,  5.36574014e-02, -3.24015357e-02,  1.24104796e-02,\n",
       "         1.06903240e-02,  3.30721475e-02,  4.14839461e-02,  3.38428430e-02,\n",
       "        -1.12886238e-03, -9.08525735e-02,  3.76021420e-03, -3.49574983e-02,\n",
       "         1.31473793e-02,  1.33827664e-02,  3.44474390e-02,  6.85054436e-02,\n",
       "        -1.42454337e-02, -5.42299151e-02, -8.57380684e-03,  2.42687669e-02,\n",
       "         5.15869819e-02, -2.89775562e-02, -1.47677520e-02, -1.08239129e-02,\n",
       "        -5.66393584e-02, -2.07527005e-03, -3.71209867e-02,  4.00513317e-03,\n",
       "        -5.97901158e-02, -1.55888665e-02,  2.72703487e-02,  1.94720812e-02,\n",
       "         1.87415686e-02, -3.74510251e-02,  2.62067188e-02,  7.50287175e-02,\n",
       "         2.16101017e-02, -1.37813166e-02,  5.01988269e-02, -6.47024903e-03,\n",
       "         5.67429923e-02, -4.03868183e-02, -1.20674977e-02,  8.55052397e-02,\n",
       "        -2.71650800e-03,  2.78822966e-02, -4.38817218e-02, -2.82745250e-02,\n",
       "         1.92068331e-02, -4.36236970e-02,  3.98129113e-02, -5.63067049e-02,\n",
       "         1.37331104e-02,  4.01090132e-03, -7.01445667e-03, -1.51919518e-02,\n",
       "         4.40158024e-02,  2.72325240e-02,  3.32806706e-02,  3.21899392e-02,\n",
       "        -8.18990543e-02, -5.92770837e-02,  2.22220533e-02, -2.69077010e-02,\n",
       "         4.15941812e-02, -1.37761179e-02,  4.10630293e-02,  4.05325294e-02,\n",
       "        -5.58696575e-02,  3.60302515e-02, -6.35679206e-03, -1.65047552e-02,\n",
       "        -1.07167847e-03, -7.76116317e-03,  5.12158871e-02, -3.07670701e-02,\n",
       "        -3.98046598e-02,  2.19666548e-02, -9.50630102e-03,  2.66281199e-02,\n",
       "         3.57357301e-02,  5.89501113e-02,  5.54056093e-03, -1.41580566e-03,\n",
       "        -2.31177006e-02,  2.41290103e-03, -2.71170884e-02, -3.01101487e-02,\n",
       "        -1.71695706e-02, -3.58682014e-02, -4.03450802e-02,  2.02254280e-02,\n",
       "         1.31837679e-02, -1.05260294e-02,  1.65335424e-02, -1.22696478e-02,\n",
       "        -3.93680297e-02,  9.12599452e-03, -1.34845590e-02,  2.73655616e-02,\n",
       "         3.88677754e-02, -3.65222828e-03, -2.11339127e-02,  2.25958604e-04,\n",
       "        -3.12622115e-02, -3.47088724e-02, -4.12915945e-02,  2.91098505e-02,\n",
       "         5.44959009e-02, -1.32069990e-01,  9.59289633e-03, -1.37135210e-02,\n",
       "         4.40675169e-02, -1.03825815e-01,  6.36642799e-02,  8.60993657e-03,\n",
       "         1.49037559e-02,  8.22811562e-04, -2.20599901e-02, -9.55978816e-04,\n",
       "        -4.45738464e-04, -1.26143340e-02, -4.75995578e-02, -2.14227531e-02,\n",
       "         4.69318107e-02,  2.59528756e-02, -1.09704845e-02, -1.69420652e-02,\n",
       "         7.51991337e-03, -5.15509509e-02,  4.28996384e-02,  1.28125132e-03,\n",
       "        -1.04662962e-02, -1.64836142e-02, -4.98015210e-02,  4.39344421e-02,\n",
       "         5.84347546e-02, -4.44175526e-02,  6.89991424e-03,  5.39160818e-02,\n",
       "         1.75766125e-02,  7.08565302e-03, -2.18797438e-02, -1.89146213e-03,\n",
       "         1.05513418e-02, -5.98141849e-02, -3.13123949e-02, -2.73168460e-02,\n",
       "         3.12897377e-02,  5.49116805e-02, -1.85728744e-02, -2.15360913e-02,\n",
       "         6.17362745e-02,  7.07529904e-03,  2.01494489e-02, -4.06040736e-02,\n",
       "         2.30053104e-02,  2.01894753e-02,  1.80803295e-02,  3.35160494e-02,\n",
       "        -2.27058996e-02, -5.81537299e-02,  3.04264445e-02, -1.40142133e-02,\n",
       "         2.95398496e-02,  1.17535098e-02, -7.83733949e-02,  2.78972536e-02,\n",
       "        -4.30106483e-02, -7.59009421e-02,  4.92750220e-02,  7.59606212e-02,\n",
       "         3.54488706e-03,  5.81535921e-02,  4.69778031e-02, -4.00010124e-03,\n",
       "        -4.00545495e-03,  2.51614973e-02, -9.95811895e-02,  3.34291123e-02,\n",
       "        -3.01808910e-03,  3.01541537e-02,  4.54931520e-02, -7.25229979e-02,\n",
       "         4.01625596e-02, -1.16757154e-02, -6.19700830e-03, -9.54162478e-02,\n",
       "        -3.01121715e-02, -2.74963900e-02, -4.44819964e-02,  1.52521825e-03,\n",
       "        -6.31317645e-02, -8.02881420e-02,  4.55777571e-02,  3.08043957e-02,\n",
       "        -4.65142867e-03, -2.48241308e-03, -1.87035650e-02,  3.56814377e-02,\n",
       "        -8.61485451e-02, -8.76672752e-03,  5.94232902e-02,  7.03033581e-02,\n",
       "        -3.35510634e-03,  3.14285122e-02,  3.35557908e-02,  4.47359718e-02,\n",
       "        -1.82779972e-02,  4.33739321e-03, -1.56071987e-02,  4.82697859e-02,\n",
       "         5.78108840e-02, -1.55584712e-03, -3.07916552e-02,  3.06997634e-02,\n",
       "         3.05095669e-02,  4.37344760e-02, -2.46431828e-02, -1.98744703e-02,\n",
       "         7.25638866e-03,  3.61755602e-02, -1.86710209e-02, -1.69779938e-02,\n",
       "         5.28292917e-02,  1.72063219e-03,  3.34720947e-02, -6.57697022e-02,\n",
       "        -3.20816673e-02,  4.12176317e-03,  8.29502940e-03, -4.56412286e-02,\n",
       "         3.20225619e-02, -2.28897426e-02,  5.52556440e-02,  4.02578227e-02,\n",
       "        -2.90956777e-02, -3.44283553e-03, -1.38217127e-02, -6.29030808e-04,\n",
       "         2.53444444e-02,  1.89793855e-02, -4.45094109e-02, -4.78352718e-02,\n",
       "         3.22866328e-02,  6.68825135e-02, -8.67473241e-03, -7.80026242e-03,\n",
       "         2.92887399e-03, -2.42292546e-02, -2.09650844e-02, -1.09208807e-01,\n",
       "        -2.94364616e-02,  1.47712361e-02, -4.47422080e-02, -2.71010641e-02,\n",
       "        -3.91135458e-03,  1.68099701e-02,  3.11841648e-02,  1.24178585e-02,\n",
       "         6.59733685e-03, -4.44687484e-03, -3.45145427e-02, -1.24448771e-03,\n",
       "         5.61033227e-02, -4.12151627e-02,  4.74843308e-02,  3.92921120e-02,\n",
       "        -5.78539297e-02, -4.47588190e-02,  1.95152871e-02,  3.01112905e-02,\n",
       "        -8.72349180e-03, -2.85054948e-02, -7.27255363e-03,  3.58912647e-02,\n",
       "        -7.09610209e-02, -6.56753033e-02,  5.03813708e-03,  2.90020183e-02,\n",
       "         4.08615405e-03,  7.97066651e-03, -2.29644123e-02, -4.41172346e-02,\n",
       "         4.12212312e-02,  2.17066240e-02,  1.23129888e-02, -1.74233988e-02,\n",
       "        -1.55699337e-02, -1.17438156e-02,  5.18719330e-02,  3.44446790e-03,\n",
       "        -6.66774660e-02,  3.35144289e-02, -4.39756410e-03, -3.66432406e-02,\n",
       "         7.48344809e-02,  1.37543930e-02, -5.05722500e-02, -1.69507992e-02,\n",
       "        -9.13898870e-02,  3.94619741e-02, -4.91533913e-02,  2.32399423e-02,\n",
       "        -6.95736986e-03, -2.49377266e-02,  1.79813821e-02, -3.91750932e-02,\n",
       "         2.72793844e-02,  5.39086945e-02,  6.70256838e-02,  2.87340581e-02,\n",
       "         7.15203723e-03,  4.48691212e-02, -2.89590098e-02,  2.67861951e-02,\n",
       "         6.71392828e-02, -3.71879130e-03, -2.13471260e-02,  4.02929075e-02,\n",
       "         5.37431650e-02,  2.69312295e-03,  3.33235674e-02,  4.19459939e-02,\n",
       "         3.77101488e-02,  1.00906659e-02,  1.64033864e-02,  1.37284100e-02,\n",
       "         4.92302030e-02,  5.35364598e-02,  5.79526275e-02, -3.29138972e-02,\n",
       "         1.22460658e-02,  2.88261306e-02, -4.93662199e-03,  2.96172574e-02,\n",
       "         6.32614642e-03, -4.79912646e-02, -3.14916968e-02, -3.97242308e-02,\n",
       "        -3.50666493e-02,  2.99804239e-03, -9.44071077e-03,  2.62554223e-03,\n",
       "         9.90502164e-03, -5.18645085e-02,  2.04040892e-02,  3.75541858e-02,\n",
       "         8.65956116e-03,  3.73828895e-02,  2.54471935e-02, -1.32634984e-02,\n",
       "         8.06262866e-02,  2.10315511e-02, -1.99040547e-02, -1.00638680e-02,\n",
       "        -3.93788815e-02, -3.32227759e-02,  1.41281504e-02,  4.00279425e-02,\n",
       "        -7.60371890e-03, -4.89356704e-02, -2.67797634e-02, -5.59408069e-02,\n",
       "         3.21788788e-02,  8.22696276e-03,  3.76134478e-02,  8.17621127e-03,\n",
       "        -1.37846870e-02, -2.16961335e-02,  1.27261290e-02, -6.38866704e-03,\n",
       "        -8.46950337e-03, -6.06376491e-03, -1.16485506e-02,  1.15114199e-02,\n",
       "         2.72039883e-02, -1.29375085e-02, -1.30015230e-02,  3.71455289e-02,\n",
       "         2.18766071e-02,  2.41833534e-02,  3.43354244e-04, -1.44565571e-02,\n",
       "         3.24437991e-02,  5.78670017e-02,  1.25016281e-02,  1.83984190e-02,\n",
       "        -7.32085556e-02, -1.24307321e-02, -1.85830202e-02, -2.32728221e-03,\n",
       "         1.47508234e-02,  1.19954813e-02, -2.08630390e-03, -2.90985536e-02,\n",
       "         3.42265965e-04, -2.48183012e-02, -2.78203413e-02, -3.26305535e-03,\n",
       "        -1.13068456e-02, -3.82190533e-02, -8.83376747e-02, -2.67931819e-02,\n",
       "        -4.97603118e-02,  1.06247999e-02, -2.03506015e-02,  4.61896136e-02,\n",
       "         3.04142348e-02,  7.39259198e-02, -1.93728954e-02, -6.24436587e-02,\n",
       "        -4.30182405e-02, -2.44441465e-03,  2.31976360e-02,  2.40072533e-02,\n",
       "        -6.32212162e-02, -1.28707476e-02, -1.06626861e-02, -1.21628363e-02,\n",
       "         4.63577248e-02,  8.66873190e-03, -3.91136184e-02,  5.18054515e-03,\n",
       "        -3.37269455e-02,  4.08053026e-02,  4.56021838e-02, -5.35722915e-03,\n",
       "         1.47815337e-02,  6.52760686e-03, -1.91998351e-02,  1.32419728e-02,\n",
       "         1.28353201e-02,  3.14027965e-02,  2.19753012e-02, -1.87768545e-02,\n",
       "         9.01833829e-03,  1.66758802e-02,  1.36964081e-03,  4.85401750e-02,\n",
       "        -5.04996851e-02,  2.72835717e-02, -2.80782790e-03,  8.74806661e-03,\n",
       "         2.16660555e-02,  1.66531298e-02, -4.64341007e-02, -1.94113832e-02,\n",
       "         1.49265276e-02, -2.04602014e-02, -9.30299759e-02, -3.57581140e-03,\n",
       "         4.36928943e-02,  4.18227836e-02, -1.04740029e-02,  9.13387351e-03,\n",
       "        -1.26577197e-02,  9.28722322e-04,  3.03165112e-02,  9.25377384e-03,\n",
       "        -1.58131495e-03,  6.60841540e-02,  1.97660141e-02, -3.60443778e-02,\n",
       "        -3.43121355e-03, -3.59755643e-02,  1.49511900e-02, -2.88110413e-02,\n",
       "         1.71100292e-02,  4.95878123e-02,  3.53194028e-02,  4.19225916e-02,\n",
       "         4.83730435e-02,  1.96335893e-02, -1.70030247e-03,  9.81865749e-02,\n",
       "         1.77093875e-02, -3.84561997e-03, -4.52681333e-02, -4.13472531e-03,\n",
       "        -5.71960174e-02,  1.04758255e-02,  1.73035245e-02,  4.14520577e-02,\n",
       "         1.68829653e-02, -1.23575479e-02, -1.35784773e-02,  6.87890872e-02,\n",
       "         1.86708625e-02,  5.50276265e-02,  2.71758270e-02, -3.02901119e-02,\n",
       "         4.20797653e-02,  3.58545370e-02, -7.05272928e-02,  8.97803903e-03,\n",
       "         3.04065142e-02, -4.93477704e-03, -3.86132970e-02, -6.36185035e-02,\n",
       "        -1.28050335e-02,  1.45554757e-02, -3.86997350e-02, -1.90095566e-02,\n",
       "        -4.16538268e-02, -5.53315096e-02,  3.14249564e-03, -4.05708700e-02,\n",
       "        -4.65664454e-03,  1.20834047e-02,  3.92553918e-02, -1.48489447e-02,\n",
       "        -4.43880484e-02, -1.95002090e-02, -2.00037621e-02, -3.84879038e-02,\n",
       "         6.50726855e-02,  1.58442277e-03,  2.42223907e-02,  2.11767480e-02,\n",
       "        -2.80457139e-02,  5.06496616e-02, -3.17925662e-02, -3.93060073e-02,\n",
       "        -7.48628676e-02, -1.47938738e-02,  2.93559860e-03, -1.90881512e-03,\n",
       "        -4.62152585e-02,  2.79246308e-02,  5.36212251e-02,  5.08887246e-02,\n",
       "        -3.63443233e-02,  4.83042337e-02,  2.08878145e-02,  4.74292189e-02,\n",
       "         4.92656510e-03, -2.71410123e-02,  5.47685847e-02, -4.14410196e-02,\n",
       "        -5.68512315e-03, -3.04765403e-02,  3.94586986e-03, -3.12194955e-02,\n",
       "        -4.37382758e-02,  2.12004054e-02, -1.80493854e-02,  2.81700194e-02,\n",
       "         3.96551862e-02, -5.35950325e-02,  5.33269830e-02,  7.67335901e-03,\n",
       "        -2.33186819e-02, -1.42170181e-02,  5.31647690e-02, -3.49745676e-02,\n",
       "         6.54081032e-02,  4.37313132e-02, -7.25452006e-02,  4.89383675e-02,\n",
       "        -9.12460219e-03,  4.59331721e-02, -3.46429646e-02, -2.72386130e-02,\n",
       "        -3.04769855e-02, -4.05411087e-02,  5.07943295e-02,  2.39161476e-02,\n",
       "        -4.21275944e-02, -7.53407925e-02, -6.36468394e-05,  2.31820159e-02,\n",
       "         2.98201442e-02, -4.67950813e-02,  1.05024660e-02, -8.33882205e-03,\n",
       "        -2.53908690e-02, -2.78920890e-03, -5.80482595e-02, -3.58988419e-02,\n",
       "         1.04233939e-02, -3.31454091e-02, -2.29870845e-02,  1.90615021e-02,\n",
       "        -4.05621342e-02,  3.41112143e-03,  1.07715596e-02,  5.10822535e-02,\n",
       "        -3.88363898e-02, -3.84785011e-02,  4.38734367e-02, -3.46118622e-02,\n",
       "         1.73041169e-02,  1.62715670e-02,  2.14490034e-02, -2.26181820e-02,\n",
       "        -1.69366207e-02,  2.30086427e-02,  2.55133491e-02,  8.10869262e-02,\n",
       "         5.52573092e-02,  1.81327090e-02,  2.32691225e-02,  7.37191960e-02,\n",
       "        -2.53652073e-02,  1.41270421e-02,  7.17900926e-03,  4.39648628e-02,\n",
       "        -1.27545726e-02,  2.30465233e-02,  3.01264599e-02, -7.24177668e-03,\n",
       "         3.82401384e-02,  5.56619465e-02, -6.76997006e-02, -2.43170336e-02,\n",
       "        -1.17053054e-02, -1.58955418e-02,  4.49812971e-02, -5.12632430e-02,\n",
       "         2.38026157e-02,  3.47883962e-02, -3.94906700e-02, -3.04278787e-02,\n",
       "         3.11546102e-02, -2.13785600e-02,  3.09259463e-02,  1.42324716e-02,\n",
       "        -6.56462759e-02,  1.46022700e-02,  3.42592760e-03,  4.44189720e-02,\n",
       "         2.20309966e-03, -1.86532922e-02,  1.99844856e-02, -5.16026095e-02,\n",
       "        -4.81741652e-02,  1.30593143e-02,  1.76972654e-02, -1.19784409e-02,\n",
       "        -9.83290281e-03, -7.01445565e-02, -6.58488721e-02,  6.75936416e-02,\n",
       "        -2.80170143e-02,  7.45118968e-03,  2.41912878e-03,  1.14712743e-02],\n",
       "       dtype=float32)}"
      ]
     },
     "execution_count": 25,
     "metadata": {},
     "output_type": "execute_result"
    }
   ],
   "source": [
    "filtered_documents[0]"
   ]
  },
  {
   "cell_type": "code",
   "execution_count": 26,
   "metadata": {},
   "outputs": [],
   "source": [
    "for doc in filtered_documents:\n",
    "    try:\n",
    "        es_client.index(index=index_name, document=doc)\n",
    "    except Exception as e:\n",
    "        print(e)"
   ]
  },
  {
   "cell_type": "code",
   "execution_count": 27,
   "metadata": {},
   "outputs": [],
   "source": [
    "def elastic_search_knn(field, vector, course):\n",
    "    knn = {\n",
    "        \"field\": field,\n",
    "        \"query_vector\": vector,\n",
    "        \"k\": 5,\n",
    "        \"num_candidates\": 10000,\n",
    "        \"filter\": {\n",
    "            \"term\": {\n",
    "                \"course\": course\n",
    "            }\n",
    "        }\n",
    "    }\n",
    "\n",
    "    search_query = {\n",
    "        \"knn\": knn,\n",
    "        \"_source\": [\"text\", \"section\", \"question\", \"course\", \"id\"]\n",
    "    }\n",
    "\n",
    "    es_results = es_client.search(\n",
    "        index=index_name,\n",
    "        body=search_query\n",
    "    )\n",
    "    \n",
    "    result_docs = []\n",
    "    \n",
    "    for hit in es_results['hits']['hits']:\n",
    "        result_docs.append(hit['_source'])\n",
    "\n",
    "    return result_docs"
   ]
  },
  {
   "cell_type": "code",
   "execution_count": 28,
   "metadata": {},
   "outputs": [
    {
     "data": {
      "text/plain": [
       "[{'question': 'The course has already started. Can I still join it?',\n",
       "  'course': 'machine-learning-zoomcamp',\n",
       "  'section': 'General course-related questions',\n",
       "  'text': 'Yes, you can. You won’t be able to submit some of the homeworks, but you can still take part in the course.\\nIn order to get a certificate, you need to submit 2 out of 3 course projects and review 3 peers’ Projects by the deadline. It means that if you join the course at the end of November and manage to work on two projects, you will still be eligible for a certificate.',\n",
       "  'id': 'ee58a693'},\n",
       " {'question': 'I just joined. What should I do next? How can I access course materials?',\n",
       "  'course': 'machine-learning-zoomcamp',\n",
       "  'section': 'General course-related questions',\n",
       "  'text': 'Welcome to the course! Go to the course page (http://mlzoomcamp.com/), scroll down and start going through the course materials. Then read everything in the cohort folder for your cohort’s year.\\nClick on the links and start watching the videos. Also watch office hours from previous cohorts. Go to DTC youtube channel and click on Playlists and search for {course yyyy}. ML Zoomcamp was first launched in 2021.\\nOr you can just use this link: http://mlzoomcamp.com/#syllabus',\n",
       "  'id': '0a278fb2'},\n",
       " {'question': \"I filled the form, but haven't received a confirmation email. Is it normal?\",\n",
       "  'course': 'machine-learning-zoomcamp',\n",
       "  'section': 'General course-related questions',\n",
       "  'text': \"The process is automated now, so you should receive the email eventually. If you haven’t, check your promotions tab in Gmail as well as spam.\\nIf you unsubscribed from our newsletter, you won't get course related updates too.\\nBut don't worry, it’s not a problem. To make sure you don’t miss anything, join the #course-ml-zoomcamp channel in Slack and our telegram channel with announcements. This is enough to follow the course.\",\n",
       "  'id': '6ba259b1'},\n",
       " {'question': 'Can I do the course in other languages, like R or Scala?',\n",
       "  'course': 'machine-learning-zoomcamp',\n",
       "  'section': 'Miscellaneous',\n",
       "  'text': 'Technically, yes. Advisable? Not really. Reasons:\\nSome homework(s) asks for specific python library versions.\\nAnswers may not match in MCQ options if using different languages other than Python 3.10 (the recommended version for 2023 cohort)\\nAnd as for midterms/capstones, your peer-reviewers may not know these other languages. Do you want to be penalized for others not knowing these other languages?\\nYou can create a separate repo using course’s lessons but written in other languages for your own learnings, but not advisable for submissions.\\ntx[source]',\n",
       "  'id': '9f261648'},\n",
       " {'question': 'The course videos are from the previous iteration. Will you release new ones or we’ll use the videos from 2021?',\n",
       "  'course': 'machine-learning-zoomcamp',\n",
       "  'section': 'General course-related questions',\n",
       "  'text': 'We won’t re-record the course videos. The focus of the course and the skills we want to teach remained the same, and the videos are still up-to-date.\\nIf you haven’t taken part in the previous iteration, you can start watching the videos. It’ll be useful for you and you will learn new things. However, we recommend using Python 3.10 now instead of Python 3.8.',\n",
       "  'id': 'e7ba6b8a'}]"
      ]
     },
     "execution_count": 28,
     "metadata": {},
     "output_type": "execute_result"
    }
   ],
   "source": [
    "user_question = \"I just discovered the course. Can I still join it?\"\n",
    "encoded_user_question = model.encode(user_question)\n",
    "elastic_search_knn('question_text_vector', encoded_user_question, \"machine-learning-zoomcamp\")"
   ]
  },
  {
   "cell_type": "code",
   "execution_count": 29,
   "metadata": {},
   "outputs": [],
   "source": [
    "def text_vector_knn(q):\n",
    "    question = q['question']\n",
    "    course = q['course']\n",
    "\n",
    "    v_q = model.encode(question)\n",
    "\n",
    "    return elastic_search_knn('question_text_vector', v_q, course)"
   ]
  },
  {
   "cell_type": "code",
   "execution_count": 30,
   "metadata": {},
   "outputs": [],
   "source": [
    "def evaluate(ground_truth, search_function):\n",
    "    relevance_total = []\n",
    "\n",
    "    for q in tqdm(ground_truth):\n",
    "        doc_id = q['document']\n",
    "        results = search_function(q)\n",
    "        relevance = [d['id'] == doc_id for d in results]\n",
    "        relevance_total.append(relevance)\n",
    "\n",
    "    return {\n",
    "        'hit_rate': hit_rate(relevance_total)\n",
    "    }"
   ]
  },
  {
   "cell_type": "code",
   "execution_count": 31,
   "metadata": {},
   "outputs": [
    {
     "name": "stderr",
     "output_type": "stream",
     "text": [
      "100%|██████████| 1830/1830 [02:55<00:00, 10.41it/s]\n"
     ]
    },
    {
     "data": {
      "text/plain": [
       "{'hit_rate': 0.9398907103825137}"
      ]
     },
     "execution_count": 31,
     "metadata": {},
     "output_type": "execute_result"
    }
   ],
   "source": [
    "evaluate(ground_truth, text_vector_knn)"
   ]
  }
 ],
 "metadata": {
  "kernelspec": {
   "display_name": "llmops",
   "language": "python",
   "name": "python3"
  },
  "language_info": {
   "codemirror_mode": {
    "name": "ipython",
    "version": 3
   },
   "file_extension": ".py",
   "mimetype": "text/x-python",
   "name": "python",
   "nbconvert_exporter": "python",
   "pygments_lexer": "ipython3",
   "version": "3.12.3"
  }
 },
 "nbformat": 4,
 "nbformat_minor": 2
}
